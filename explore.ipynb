{
 "cells": [
  {
   "cell_type": "code",
   "execution_count": 1,
   "metadata": {},
   "outputs": [],
   "source": [
    "import os\n",
    "import pandas as pd\n",
    "\n"
   ]
  },
  {
   "cell_type": "code",
   "execution_count": null,
   "metadata": {},
   "outputs": [],
   "source": [
    "# Path to the folder where CSV files are located\n",
    "folder_path = './'\n",
    "\n",
    "# List all CSV files in the folder\n",
    "file_list = [f for f in os.listdir(folder_path) if f.endswith('.csv')]\n",
    "\n",
    "# Initialize an empty DataFrame to hold the concatenated data\n",
    "concatenated_df = pd.DataFrame()\n",
    "\n",
    "# Loop through each CSV file\n",
    "for file_name in file_list:\n",
    "    # Read the current file into a DataFrame\n",
    "    df = pd.read_csv(os.path.join(folder_path, file_name))\n",
    "    \n",
    "    # Extract the house number from the file name\n",
    "    # Note: This assumes the filename format \"House_10sec_1month_xxx.csv\"\n",
    "    house_number = file_name.split('_')[-1].split('.')[0]\n",
    "    \n",
    "    # Create a new column 'House' with extracted house number\n",
    "    df['House'] = house_number\n",
    "    \n",
    "    # Create a new column 'OriginalIndex' with the original index numbers\n",
    "    df['OriginalIndex'] = df.index\n",
    "\n",
    "    # convert from l/10s to l/min\n",
    "    df[['Toilet', 'Shower', 'Faucet', 'ClothesWasher', 'Dishwasher', 'Bathtub', 'TOTAL']] = df[['Toilet', 'Shower', 'Faucet', 'ClothesWasher', 'Dishwasher', 'Bathtub', 'TOTAL']] * 6\n",
    "    \n",
    "    # Append the current DataFrame to the concatenated DataFrame\n",
    "    concatenated_df = pd.concat([concatenated_df, df], ignore_index=True)\n",
    "\n",
    "# Reset index\n",
    "concatenated_df.reset_index(drop=True, inplace=True)\n",
    "\n",
    "# Save everything to a new CSV file, if needed\n",
    "concatenated_df.to_csv(os.path.join(folder_path, 'all_houses.csv'), index=False)"
   ]
  },
  {
   "cell_type": "code",
   "execution_count": null,
   "metadata": {},
   "outputs": [
    {
     "data": {
      "text/plain": [
       "Index(['TS', 'Toilet', 'Shower', 'Faucet', 'ClothesWasher', 'Dishwasher',\n",
       "       'Bathtub', 'TOTAL', 'House', 'OriginalIndex'],\n",
       "      dtype='object')"
      ]
     },
     "execution_count": 7,
     "metadata": {},
     "output_type": "execute_result"
    }
   ],
   "source": [
    "concatenated_df"
   ]
  }
 ],
 "metadata": {
  "kernelspec": {
   "display_name": "Python 3",
   "language": "python",
   "name": "python3"
  },
  "language_info": {
   "codemirror_mode": {
    "name": "ipython",
    "version": 3
   },
   "file_extension": ".py",
   "mimetype": "text/x-python",
   "name": "python",
   "nbconvert_exporter": "python",
   "pygments_lexer": "ipython3",
   "version": "3.11.9"
  }
 },
 "nbformat": 4,
 "nbformat_minor": 2
}
